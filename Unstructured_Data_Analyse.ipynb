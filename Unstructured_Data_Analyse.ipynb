{
 "cells": [
  {
   "cell_type": "code",
   "execution_count": 5,
   "id": "01e02c64-030b-45f1-abd3-a9eefd552ec1",
   "metadata": {},
   "outputs": [
    {
     "ename": "SyntaxError",
     "evalue": "invalid syntax (3995653164.py, line 6)",
     "output_type": "error",
     "traceback": [
      "\u001b[1;36m  Cell \u001b[1;32mIn[5], line 6\u001b[1;36m\u001b[0m\n\u001b[1;33m    pip install xlrd\u001b[0m\n\u001b[1;37m        ^\u001b[0m\n\u001b[1;31mSyntaxError\u001b[0m\u001b[1;31m:\u001b[0m invalid syntax\n"
     ]
    }
   ],
   "source": [
    "import pandas as pd\n",
    "import numpy as np\n",
    "import matplotlib.pyplot as plt\n",
    "import seaborn as sns\n",
    "import plotly.express as px"
   ]
  },
  {
   "cell_type": "markdown",
   "id": "e8190989-b6e2-4709-a419-7121570cd83d",
   "metadata": {},
   "source": [
    "# Cins və yaş qrupları üzrə ölənlərin sayı (Şəhər və kənd)"
   ]
  },
  {
   "cell_type": "code",
   "execution_count": null,
   "id": "a3dc5e95-f672-4bbd-bbb4-7afe2fbc37b9",
   "metadata": {},
   "outputs": [],
   "source": [
    "def process_dataframe_4_1(df):\n",
    "    # İstənilən satırları və sütunları silmək\n",
    "    df.drop([0, 1, 2, 3, 4, 6, 8], inplace=True)\n",
    "    df.drop('Unnamed: 0', axis=1, inplace=True)\n",
    "    \n",
    "    # İstənilən hüceyrəni dəyişmək\n",
    "    df.iloc[0, 0] = 'İl'\n",
    "    \n",
    "    # Sütunu indeksə çevirmək və dataframe-i transpozisiya etmək\n",
    "    df_new = df.set_index('Unnamed: 1').T\n",
    "    df_new = df_new.reset_index(drop=True)\n",
    "    df_new.index.name = None\n",
    "    \n",
    "    # Veriləri təmizləmək və növünü dəyişmək\n",
    "    df_new = df_new.replace('.0', '').astype(int)\n",
    "    \n",
    "    # Yeni 'Cins' sütunu yaratmaq\n",
    "    df_new['Cins'] = np.where(df_new.index < 34, 'Hər ikisi',\n",
    "                              np.where((df_new.index >= 34) & (df_new.index < 68), 'Kişi', 'Qadın'))\n",
    "    \n",
    "    # Dataframe-i shuffle etmək\n",
    "    df_new = df_new.sample(frac=1).reset_index(drop=True)\n",
    "\n",
    "    df_new.rename(columns={0: '0 yaş'}, inplace=True)\n",
    "    \n",
    "    return df_new"
   ]
  },
  {
   "cell_type": "code",
   "execution_count": null,
   "id": "cbf2c37a-ba13-4209-923b-4e03c274d927",
   "metadata": {},
   "outputs": [],
   "source": [
    "cins_yas_say = pd.read_excel('Cins və yaş qrupları üzrə ölənlərin sayı.xls',sheet_name = '4_1')"
   ]
  },
  {
   "cell_type": "code",
   "execution_count": null,
   "id": "607e43fe-4162-4528-b9e6-f179029d5855",
   "metadata": {
    "scrolled": true
   },
   "outputs": [],
   "source": [
    "cins_yas_say_pro = process_dataframe_4_1(cins_yas_say)"
   ]
  },
  {
   "cell_type": "code",
   "execution_count": null,
   "id": "e5772179-7237-4748-8a2b-2217300948ee",
   "metadata": {},
   "outputs": [],
   "source": [
    "cins_yas_say_pro"
   ]
  },
  {
   "cell_type": "code",
   "execution_count": null,
   "id": "a4b61a15-e22e-4cb3-b133-b2cb980b99b1",
   "metadata": {
    "scrolled": true
   },
   "outputs": [],
   "source": [
    "cins_yas_say_pro.info()"
   ]
  },
  {
   "cell_type": "markdown",
   "id": "c5ada2ca-36fd-49e9-9f98-435f74453973",
   "metadata": {},
   "source": [
    "# Cins və yaş qrupları üzrə ölənlərin sayı (Şəhər)"
   ]
  },
  {
   "cell_type": "code",
   "execution_count": null,
   "id": "ebc5c59c-d09f-453a-9aa6-fd0c3ab4261e",
   "metadata": {},
   "outputs": [],
   "source": [
    "cins_yas_say_seher = pd.read_excel('Cins və yaş qrupları üzrə ölənlərin sayı.xls',sheet_name = '4_1sheher')"
   ]
  },
  {
   "cell_type": "code",
   "execution_count": null,
   "id": "1365081c-55ba-458e-8162-518b3d3ffa35",
   "metadata": {
    "scrolled": true
   },
   "outputs": [],
   "source": [
    "cins_yas_say_seher_pro = process_dataframe_4_1(cins_yas_say_seher)"
   ]
  },
  {
   "cell_type": "code",
   "execution_count": null,
   "id": "b54083b6-e3c3-47bb-be36-8b756aa59fa6",
   "metadata": {
    "scrolled": true
   },
   "outputs": [],
   "source": [
    "cins_yas_say_seher_pro"
   ]
  },
  {
   "cell_type": "markdown",
   "id": "207b8080-12ad-44a2-9808-7121326e4267",
   "metadata": {
    "jp-MarkdownHeadingCollapsed": true
   },
   "source": [
    "# Cins və yaş qrupları üzrə ölənlərin sayı (Kənd)"
   ]
  },
  {
   "cell_type": "code",
   "execution_count": null,
   "id": "e2d1df1c-38e4-4db2-a82d-c4b487f57f78",
   "metadata": {},
   "outputs": [],
   "source": [
    "cins_yas_say_kend = pd.read_excel('Cins və yaş qrupları üzrə ölənlərin sayı.xls',sheet_name = '4_1kend')"
   ]
  },
  {
   "cell_type": "code",
   "execution_count": null,
   "id": "e3832e01-9f25-4228-98a7-32a3e6805c4a",
   "metadata": {},
   "outputs": [],
   "source": [
    "cins_yas_say_kend_pro = process_dataframe_4_1(cins_yas_say_kend)"
   ]
  },
  {
   "cell_type": "code",
   "execution_count": null,
   "id": "d8f1bf0d-6bae-410e-875f-6913a0f00bb9",
   "metadata": {},
   "outputs": [],
   "source": [
    "cins_yas_say_kend_pro"
   ]
  },
  {
   "cell_type": "markdown",
   "id": "5a6fa7d3-e3fb-42ea-b5da-25f2507827ca",
   "metadata": {
    "jp-MarkdownHeadingCollapsed": true
   },
   "source": [
    "# Cins və yaş qrupları üzrə ölümün ümumi əmsalları (Şəhər və Kənd)"
   ]
  },
  {
   "cell_type": "code",
   "execution_count": null,
   "id": "749ee278-fa03-4d31-9a67-9c01e054e271",
   "metadata": {},
   "outputs": [],
   "source": [
    "import numpy as np\n",
    "\n",
    "def process_dataframe_4_2(df):\n",
    "    # İstənilən satırları və sütunları silmək\n",
    "    df.drop([0, 1, 2, 3, 4, 6, 8, 28, 29, 30], inplace=True)\n",
    "    df.drop('Unnamed: 0', axis=1, inplace=True)\n",
    "    \n",
    "    # İstənilən hüceyrəni dəyişmək\n",
    "    df.iloc[0, 0] = 'İl'\n",
    "    \n",
    "    # Sütunu indeksə çevirmək və dataframe-i transpozisiya etmək\n",
    "    df_new = df.set_index('Unnamed: 1').T\n",
    "    df_new = df_new.reset_index(drop=True)\n",
    "    df_new.index.name = None\n",
    "    \n",
    "    # Veriləri təmizləmək və növünü dəyişmək\n",
    "    df_new = df_new.replace('.0', '').astype(float).round(1)\n",
    "    df_new['İl'] = df_new['İl'].astype(int)\n",
    "    \n",
    "    # Yeni 'Cins' sütunu yaratmaq\n",
    "    df_new['Cins'] = np.where(df_new.index < 34, 'Hər ikisi',\n",
    "                              np.where((df_new.index >= 34) & (df_new.index < 68), 'Kişi', 'Qadın'))\n",
    "    \n",
    "    # Dataframe-i shuffle etmək\n",
    "    df_new = df_new.sample(frac=1).reset_index(drop=True)\n",
    "    \n",
    "    return df_new\n"
   ]
  },
  {
   "cell_type": "code",
   "execution_count": null,
   "id": "30a36fd5-6d1f-4050-a3bc-4e0804eac432",
   "metadata": {},
   "outputs": [],
   "source": [
    "cins_yas_emsal = pd.read_excel('Cins və yaş qrupları üzrə ölümün ümumi əmsalları.xls',sheet_name = '4_2')"
   ]
  },
  {
   "cell_type": "code",
   "execution_count": null,
   "id": "e8b391d9-25f9-41a3-8278-26d5124df067",
   "metadata": {},
   "outputs": [],
   "source": [
    "cins_yas_emsal_pro = process_dataframe_4_2(cins_yas_emsal)"
   ]
  },
  {
   "cell_type": "code",
   "execution_count": null,
   "id": "e786734b-687f-41b0-8007-5f8ca613af2a",
   "metadata": {},
   "outputs": [],
   "source": [
    "cins_yas_emsal_pro"
   ]
  },
  {
   "cell_type": "markdown",
   "id": "ff6c7cfe-69d2-48d9-b2c4-524e5bda5e44",
   "metadata": {},
   "source": [
    "# Cins və yaş qrupları üzrə ölümün ümumi əmsalları (Şəhər)"
   ]
  },
  {
   "cell_type": "code",
   "execution_count": 6,
   "id": "8d47510f-97ed-46d2-85d9-c53b82b27cfe",
   "metadata": {},
   "outputs": [
    {
     "ename": "ImportError",
     "evalue": "Missing optional dependency 'xlrd'. Install xlrd >= 2.0.1 for xls Excel support Use pip or conda to install xlrd.",
     "output_type": "error",
     "traceback": [
      "\u001b[1;31m---------------------------------------------------------------------------\u001b[0m",
      "\u001b[1;31mModuleNotFoundError\u001b[0m                       Traceback (most recent call last)",
      "File \u001b[1;32m~\\anaconda3\\Lib\\site-packages\\pandas\\compat\\_optional.py:135\u001b[0m, in \u001b[0;36mimport_optional_dependency\u001b[1;34m(name, extra, errors, min_version)\u001b[0m\n\u001b[0;32m    134\u001b[0m \u001b[38;5;28;01mtry\u001b[39;00m:\n\u001b[1;32m--> 135\u001b[0m     module \u001b[38;5;241m=\u001b[39m importlib\u001b[38;5;241m.\u001b[39mimport_module(name)\n\u001b[0;32m    136\u001b[0m \u001b[38;5;28;01mexcept\u001b[39;00m \u001b[38;5;167;01mImportError\u001b[39;00m:\n",
      "File \u001b[1;32m~\\anaconda3\\Lib\\importlib\\__init__.py:90\u001b[0m, in \u001b[0;36mimport_module\u001b[1;34m(name, package)\u001b[0m\n\u001b[0;32m     89\u001b[0m         level \u001b[38;5;241m+\u001b[39m\u001b[38;5;241m=\u001b[39m \u001b[38;5;241m1\u001b[39m\n\u001b[1;32m---> 90\u001b[0m \u001b[38;5;28;01mreturn\u001b[39;00m _bootstrap\u001b[38;5;241m.\u001b[39m_gcd_import(name[level:], package, level)\n",
      "File \u001b[1;32m<frozen importlib._bootstrap>:1387\u001b[0m, in \u001b[0;36m_gcd_import\u001b[1;34m(name, package, level)\u001b[0m\n",
      "File \u001b[1;32m<frozen importlib._bootstrap>:1360\u001b[0m, in \u001b[0;36m_find_and_load\u001b[1;34m(name, import_)\u001b[0m\n",
      "File \u001b[1;32m<frozen importlib._bootstrap>:1324\u001b[0m, in \u001b[0;36m_find_and_load_unlocked\u001b[1;34m(name, import_)\u001b[0m\n",
      "\u001b[1;31mModuleNotFoundError\u001b[0m: No module named 'xlrd'",
      "\nDuring handling of the above exception, another exception occurred:\n",
      "\u001b[1;31mImportError\u001b[0m                               Traceback (most recent call last)",
      "Cell \u001b[1;32mIn[6], line 1\u001b[0m\n\u001b[1;32m----> 1\u001b[0m cins_yas_emsal_seher \u001b[38;5;241m=\u001b[39m pd\u001b[38;5;241m.\u001b[39mread_excel(\u001b[38;5;124m'\u001b[39m\u001b[38;5;124mCins və yaş qrupları üzrə ölümün ümumi əmsalları.xls\u001b[39m\u001b[38;5;124m'\u001b[39m,sheet_name \u001b[38;5;241m=\u001b[39m \u001b[38;5;124m'\u001b[39m\u001b[38;5;124m4_2sheher\u001b[39m\u001b[38;5;124m'\u001b[39m)\n",
      "File \u001b[1;32m~\\anaconda3\\Lib\\site-packages\\pandas\\io\\excel\\_base.py:495\u001b[0m, in \u001b[0;36mread_excel\u001b[1;34m(io, sheet_name, header, names, index_col, usecols, dtype, engine, converters, true_values, false_values, skiprows, nrows, na_values, keep_default_na, na_filter, verbose, parse_dates, date_parser, date_format, thousands, decimal, comment, skipfooter, storage_options, dtype_backend, engine_kwargs)\u001b[0m\n\u001b[0;32m    493\u001b[0m \u001b[38;5;28;01mif\u001b[39;00m \u001b[38;5;129;01mnot\u001b[39;00m \u001b[38;5;28misinstance\u001b[39m(io, ExcelFile):\n\u001b[0;32m    494\u001b[0m     should_close \u001b[38;5;241m=\u001b[39m \u001b[38;5;28;01mTrue\u001b[39;00m\n\u001b[1;32m--> 495\u001b[0m     io \u001b[38;5;241m=\u001b[39m ExcelFile(\n\u001b[0;32m    496\u001b[0m         io,\n\u001b[0;32m    497\u001b[0m         storage_options\u001b[38;5;241m=\u001b[39mstorage_options,\n\u001b[0;32m    498\u001b[0m         engine\u001b[38;5;241m=\u001b[39mengine,\n\u001b[0;32m    499\u001b[0m         engine_kwargs\u001b[38;5;241m=\u001b[39mengine_kwargs,\n\u001b[0;32m    500\u001b[0m     )\n\u001b[0;32m    501\u001b[0m \u001b[38;5;28;01melif\u001b[39;00m engine \u001b[38;5;129;01mand\u001b[39;00m engine \u001b[38;5;241m!=\u001b[39m io\u001b[38;5;241m.\u001b[39mengine:\n\u001b[0;32m    502\u001b[0m     \u001b[38;5;28;01mraise\u001b[39;00m \u001b[38;5;167;01mValueError\u001b[39;00m(\n\u001b[0;32m    503\u001b[0m         \u001b[38;5;124m\"\u001b[39m\u001b[38;5;124mEngine should not be specified when passing \u001b[39m\u001b[38;5;124m\"\u001b[39m\n\u001b[0;32m    504\u001b[0m         \u001b[38;5;124m\"\u001b[39m\u001b[38;5;124man ExcelFile - ExcelFile already has the engine set\u001b[39m\u001b[38;5;124m\"\u001b[39m\n\u001b[0;32m    505\u001b[0m     )\n",
      "File \u001b[1;32m~\\anaconda3\\Lib\\site-packages\\pandas\\io\\excel\\_base.py:1567\u001b[0m, in \u001b[0;36mExcelFile.__init__\u001b[1;34m(self, path_or_buffer, engine, storage_options, engine_kwargs)\u001b[0m\n\u001b[0;32m   1564\u001b[0m \u001b[38;5;28mself\u001b[39m\u001b[38;5;241m.\u001b[39mengine \u001b[38;5;241m=\u001b[39m engine\n\u001b[0;32m   1565\u001b[0m \u001b[38;5;28mself\u001b[39m\u001b[38;5;241m.\u001b[39mstorage_options \u001b[38;5;241m=\u001b[39m storage_options\n\u001b[1;32m-> 1567\u001b[0m \u001b[38;5;28mself\u001b[39m\u001b[38;5;241m.\u001b[39m_reader \u001b[38;5;241m=\u001b[39m \u001b[38;5;28mself\u001b[39m\u001b[38;5;241m.\u001b[39m_engines[engine](\n\u001b[0;32m   1568\u001b[0m     \u001b[38;5;28mself\u001b[39m\u001b[38;5;241m.\u001b[39m_io,\n\u001b[0;32m   1569\u001b[0m     storage_options\u001b[38;5;241m=\u001b[39mstorage_options,\n\u001b[0;32m   1570\u001b[0m     engine_kwargs\u001b[38;5;241m=\u001b[39mengine_kwargs,\n\u001b[0;32m   1571\u001b[0m )\n",
      "File \u001b[1;32m~\\anaconda3\\Lib\\site-packages\\pandas\\io\\excel\\_xlrd.py:45\u001b[0m, in \u001b[0;36mXlrdReader.__init__\u001b[1;34m(self, filepath_or_buffer, storage_options, engine_kwargs)\u001b[0m\n\u001b[0;32m     33\u001b[0m \u001b[38;5;250m\u001b[39m\u001b[38;5;124;03m\"\"\"\u001b[39;00m\n\u001b[0;32m     34\u001b[0m \u001b[38;5;124;03mReader using xlrd engine.\u001b[39;00m\n\u001b[0;32m     35\u001b[0m \n\u001b[1;32m   (...)\u001b[0m\n\u001b[0;32m     42\u001b[0m \u001b[38;5;124;03m    Arbitrary keyword arguments passed to excel engine.\u001b[39;00m\n\u001b[0;32m     43\u001b[0m \u001b[38;5;124;03m\"\"\"\u001b[39;00m\n\u001b[0;32m     44\u001b[0m err_msg \u001b[38;5;241m=\u001b[39m \u001b[38;5;124m\"\u001b[39m\u001b[38;5;124mInstall xlrd >= 2.0.1 for xls Excel support\u001b[39m\u001b[38;5;124m\"\u001b[39m\n\u001b[1;32m---> 45\u001b[0m import_optional_dependency(\u001b[38;5;124m\"\u001b[39m\u001b[38;5;124mxlrd\u001b[39m\u001b[38;5;124m\"\u001b[39m, extra\u001b[38;5;241m=\u001b[39merr_msg)\n\u001b[0;32m     46\u001b[0m \u001b[38;5;28msuper\u001b[39m()\u001b[38;5;241m.\u001b[39m\u001b[38;5;21m__init__\u001b[39m(\n\u001b[0;32m     47\u001b[0m     filepath_or_buffer,\n\u001b[0;32m     48\u001b[0m     storage_options\u001b[38;5;241m=\u001b[39mstorage_options,\n\u001b[0;32m     49\u001b[0m     engine_kwargs\u001b[38;5;241m=\u001b[39mengine_kwargs,\n\u001b[0;32m     50\u001b[0m )\n",
      "File \u001b[1;32m~\\anaconda3\\Lib\\site-packages\\pandas\\compat\\_optional.py:138\u001b[0m, in \u001b[0;36mimport_optional_dependency\u001b[1;34m(name, extra, errors, min_version)\u001b[0m\n\u001b[0;32m    136\u001b[0m \u001b[38;5;28;01mexcept\u001b[39;00m \u001b[38;5;167;01mImportError\u001b[39;00m:\n\u001b[0;32m    137\u001b[0m     \u001b[38;5;28;01mif\u001b[39;00m errors \u001b[38;5;241m==\u001b[39m \u001b[38;5;124m\"\u001b[39m\u001b[38;5;124mraise\u001b[39m\u001b[38;5;124m\"\u001b[39m:\n\u001b[1;32m--> 138\u001b[0m         \u001b[38;5;28;01mraise\u001b[39;00m \u001b[38;5;167;01mImportError\u001b[39;00m(msg)\n\u001b[0;32m    139\u001b[0m     \u001b[38;5;28;01mreturn\u001b[39;00m \u001b[38;5;28;01mNone\u001b[39;00m\n\u001b[0;32m    141\u001b[0m \u001b[38;5;66;03m# Handle submodules: if we have submodule, grab parent module from sys.modules\u001b[39;00m\n",
      "\u001b[1;31mImportError\u001b[0m: Missing optional dependency 'xlrd'. Install xlrd >= 2.0.1 for xls Excel support Use pip or conda to install xlrd."
     ]
    }
   ],
   "source": [
    "cins_yas_emsal_seher = pd.read_excel('Cins və yaş qrupları üzrə ölümün ümumi əmsalları.xls',sheet_name = '4_2sheher')"
   ]
  },
  {
   "cell_type": "code",
   "execution_count": null,
   "id": "781dcfc4-6d66-4817-b524-6abc893998af",
   "metadata": {},
   "outputs": [],
   "source": [
    "import numpy as np\n",
    "\n",
    "def process_dataframe_4_2_seher(df):\n",
    "    # İstənilən satırları və sütunları silmək\n",
    "    df.drop([0, 1, 2, 3, 4, 6, 8, 28, 29], inplace=True)\n",
    "    df.drop('Unnamed: 0', axis=1, inplace=True)\n",
    "    \n",
    "    # İstənilən hüceyrəni dəyişmək\n",
    "    df.iloc[0, 0] = 'İl'\n",
    "    \n",
    "    # Sütunu indeksə çevirmək və dataframe-i transpozisiya etmək\n",
    "    df_new = df.set_index('Unnamed: 1').T\n",
    "    df_new = df_new.reset_index(drop=True)\n",
    "    df_new.index.name = None\n",
    "    \n",
    "    # Veriləri təmizləmək və növünü dəyişmək\n",
    "    df_new = df_new.replace('.0', '').astype(float).round(1)\n",
    "    df_new['İl'] = df_new['İl'].astype(int)\n",
    "    \n",
    "    # Yeni 'Cins' sütunu yaratmaq\n",
    "    df_new['Cins'] = np.where(df_new.index < 34, 'Hər ikisi',\n",
    "                              np.where((df_new.index >= 34) & (df_new.index < 68), 'Kişi', 'Qadın'))\n",
    "    \n",
    "    # Dataframe-i shuffle etmək\n",
    "    df_new = df_new.sample(frac=1).reset_index(drop=True)\n",
    "    \n",
    "    return df_new\n"
   ]
  },
  {
   "cell_type": "code",
   "execution_count": null,
   "id": "b6af5fa7-8d30-4217-9a4a-33ef2177df8d",
   "metadata": {},
   "outputs": [],
   "source": [
    "cins_yas_emsal_seher_pro = process_dataframe_4_2_seher(cins_yas_emsal_seher)"
   ]
  },
  {
   "cell_type": "markdown",
   "id": "e67e45cf-1abf-441a-b36d-f585cb5a39ec",
   "metadata": {},
   "source": [
    "# Cins və yaş qrupları üzrə ölümün ümumi əmsalları (Kənd)"
   ]
  },
  {
   "cell_type": "code",
   "execution_count": null,
   "id": "fd67b99f-ef4e-4589-8319-487beb7e145c",
   "metadata": {},
   "outputs": [],
   "source": [
    "cins_yas_emsal_kend = pd.read_excel('Cins və yaş qrupları üzrə ölümün ümumi əmsalları.xls',sheet_name = '4_2kend')"
   ]
  },
  {
   "cell_type": "code",
   "execution_count": null,
   "id": "e5845b66-115c-496e-b2f8-4e9de9c36278",
   "metadata": {},
   "outputs": [],
   "source": [
    "def process_dataframe_4_2_kend(df):\n",
    "    # İstənilən satırları və sütunları silmək\n",
    "    df.drop([0, 1, 2, 3, 4, 5, 7, 9, 29, 30], inplace=True)\n",
    "    df.drop('Unnamed: 0', axis=1, inplace=True)\n",
    "    \n",
    "    # İstənilən hüceyrəni dəyişmək\n",
    "    df.iloc[0, 0] = 'İl'\n",
    "    \n",
    "    # Sütunu indeksə çevirmək və dataframe-i transpozisiya etmək\n",
    "    df_new = df.set_index('Unnamed: 1').T\n",
    "    df_new = df_new.reset_index(drop=True)\n",
    "    df_new.index.name = None\n",
    "    \n",
    "    # Veriləri təmizləmək və növünü dəyişmək\n",
    "    df_new = df_new.replace('.0', '').astype(float).round(1)\n",
    "    df_new['İl'] = df_new['İl'].astype(int)\n",
    "    \n",
    "    # Yeni 'Cins' sütunu yaratmaq\n",
    "    df_new['Cins'] = np.where(df_new.index < 34, 'Hər ikisi',\n",
    "                              np.where((df_new.index >= 34) & (df_new.index < 68), 'Kişi', 'Qadın'))\n",
    "    \n",
    "    # Dataframe-i shuffle etmək\n",
    "    df_new = df_new.sample(frac=1).reset_index(drop=True)\n",
    "    \n",
    "    return df_new\n"
   ]
  },
  {
   "cell_type": "code",
   "execution_count": null,
   "id": "44adb13c-7587-49ca-a049-b1f138664e30",
   "metadata": {},
   "outputs": [],
   "source": [
    "cins_yas_emsal_kend_pro = process_dataframe_4_2_kend(cins_yas_emsal_kend)"
   ]
  },
  {
   "cell_type": "code",
   "execution_count": null,
   "id": "1307c74e-bb59-44c1-85dc-1b9439877e8f",
   "metadata": {},
   "outputs": [],
   "source": [
    "cins_yas_emsal_kend_pro"
   ]
  },
  {
   "cell_type": "markdown",
   "id": "6bf36fa3-ecf5-46bb-b4ad-811242c9bcd9",
   "metadata": {},
   "source": [
    "# 1 ci sual"
   ]
  },
  {
   "cell_type": "markdown",
   "id": "1f6deff4-4ee6-4c85-bdac-6377bf769a32",
   "metadata": {},
   "source": [
    "### SUAL\n",
    "Ölüm sayı və ölüm əmsalının illər üzrə dəyişməsini (son 20 il) müqayisəli təsvir edin.\r\n",
    "Zaman dinamikasında ölüm əmsalının dəyişməsinə səbəb olan ehtimal etdiyiniz\r\n",
    "təsiredici faktorları izah ed\n",
    "#### Analiz nəticələri (Ölüm sayı)\n",
    "Qrafikdə görünən nəticələrə əsasən ilk olaraq 1992 ildə görünən artım birinci Qarabağ müharibəsinin olduğu illərdi artımların səbəbi bundandır və 1994 ilə qədər davam edib.\n",
    "Daha sonra illərə görə ölüm sayları artaraq meəyyən tendensiya ilə davam edib.\n",
    "Bir sonraki böyük artım 2019 cu ildə Korona virus pandemiyasının başladığı ilə təsadüf edir ,2021 ci ildən sonra pandemiyadan ölənlərin sayı azalmağa doğru gedir.\n",
    "\n",
    "in"
   ]
  },
  {
   "cell_type": "code",
   "execution_count": null,
   "id": "b537376b-7f1f-4f17-a59c-a22927937375",
   "metadata": {},
   "outputs": [],
   "source": [
    "fig = px.scatter(data_frame=cins_yas_say_pro, \n",
    "                 x='İl', \n",
    "                 y='Cəmi', \n",
    "                 color='Cins', \n",
    "                 title='İl üzrə Cəmi və Cins')\n",
    "\n",
    "fig.show()"
   ]
  },
  {
   "cell_type": "markdown",
   "id": "6f55e460-7f49-4ffa-b602-f357f175d20c",
   "metadata": {},
   "source": [
    "### Analiz nəticələri(Ölüm Əmsalı)\n",
    "Qrafikdən əldə edilən nəticələr Azərbaycanda ölüm əmsalının zamanla müəyyən dəyişikliklərə məruz qaldığını göstərir.\n",
    "Ölüm sayı analizində görülən 1992 ildəki müharibədə olduğu kimi burada da görünür,1994 cü ildən sonra ölüm əmsalları azalmağa başlayıb bu da zaman \n",
    "keçdikcə tibb sahəsindəki inkişafı dəyərləndirdiyimizi göstərir,ümumiyyətlə kişilərin qadınlardan daha çox artımda olduğu bəllidir ümumdünya tendensiya \n",
    "da eyni ilə bu şəkildədir"
   ]
  },
  {
   "cell_type": "code",
   "execution_count": null,
   "id": "fc815761-1eee-44a7-8db3-124efecfa446",
   "metadata": {},
   "outputs": [],
   "source": [
    "fig = px.scatter(data_frame=cins_yas_emsal_pro, \n",
    "                 x='İl', \n",
    "                 y='Cəmi', \n",
    "                 color='Cins', \n",
    "                 title='İl üzrə Cəmi və Cins(Hər 1000 nəfərə doğulan üçün ölüm əmsalı)')\n",
    "\n",
    "fig.show()"
   ]
  },
  {
   "cell_type": "code",
   "execution_count": null,
   "id": "c9975e80-93aa-499b-b9f5-3c4722c41ffc",
   "metadata": {
    "scrolled": true
   },
   "outputs": [],
   "source": [
    "import plotly.graph_objects as go\n",
    "from plotly.subplots import make_subplots\n",
    "\n",
    "# Məsələn, cins dəyərlərinə uyğun rənglər\n",
    "color_map = {\n",
    "    'Kişi': 'blue',\n",
    "    'Qadın': 'red',\n",
    "    'Hər ikisi': 'green'\n",
    "}\n",
    "\n",
    "# Rənglər üçün yeni bir sütun yaradın\n",
    "cins_yas_say_pro['Rəng'] = cins_yas_say_pro['Cins'].map(color_map)\n",
    "\n",
    "fig = make_subplots(rows=19, cols=1, shared_xaxes=True, \n",
    "                    subplot_titles=('0 yaş','1-4', '5-9', '10-14', '15-19', '20-24', '25-29', \n",
    "                                    '30-34', '35-39', '40-44', '45-49', '50-54', '55-59', \n",
    "                                    '60-64', '65-69', '70-74', '75-79', '80-84', '85 və yuxarı'))\n",
    "\n",
    "# Hər bir yaş qrupu üçün scatter əlavə etmək\n",
    "for i, age_group in enumerate(['0 yaş','1-4', '5-9', '10-14', '15-19', '20-24', \n",
    "                               '25-29', '30-34', '35-39', '40-44', '45-49', \n",
    "                               '50-54', '55-59', '60-64', '65-69', '70-74', \n",
    "                               '75-79', '80-84', '85 və yuxarı']):\n",
    "    fig.add_trace(go.Scatter(x=cins_yas_say_pro['İl'], \n",
    "                             y=cins_yas_say_pro[age_group], \n",
    "                             mode='markers', \n",
    "                             name=age_group, \n",
    "                             marker=dict(color=cins_yas_say_pro['Rəng'])),\n",
    "                  row=i+1, col=1)\n",
    "\n",
    "# Qrafiki göstərin\n",
    "fig.update_layout(height=3000, width=800, title_text=\"Yaş Qruplarına Görə Cins Dağılımı\")\n",
    "fig.show()\n"
   ]
  },
  {
   "cell_type": "markdown",
   "id": "3b331100-81e6-410b-90b6-7fdd0899a7da",
   "metadata": {},
   "source": [
    "# 2 ci sual"
   ]
  },
  {
   "cell_type": "markdown",
   "id": "25e1a9ed-ba5e-47d6-984c-1a753abe5ef5",
   "metadata": {},
   "source": [
    "### Sual 2\n",
    "Ölüm sayının yaş qrupları üzrə faiz nisbətinin illər üzrə dəyişməsini təsvir edin (son 20 \n",
    "il). Müşahidə etdiyiniz əsas tendensiyaları göstərin və onların ehtimal oluna \r\n",
    "səbəblərini izah ed\n",
    "\n",
    "#### Analiz nəticələri\n",
    "Ümumiyətlə 90cı illərin sonlarına doğru görünür ki ,ölüm sayları azalmağa doğru gedir buda tibbin inkişafını göstərir\n",
    "Körpə və uşaq ölümü azalma meylindədir və müsbət inkişafları göstərir.\n",
    "Orta yaş qruplarında ölüm faizi sabitdir, lakin yaş artdıqca ölüm faizi yüksəlir.\n",
    "COVID-19 pandemiyası 2020-ci ildə bütün yaş qruplarında ölüm faizini artırmışdır, xüsusən də yaşlı əhali arasında.in"
   ]
  },
  {
   "cell_type": "code",
   "execution_count": null,
   "id": "b6a10d6c-527a-49c5-87e1-6d6d5658cd75",
   "metadata": {
    "scrolled": true
   },
   "outputs": [],
   "source": [
    "import plotly.graph_objects as go\n",
    "from plotly.subplots import make_subplots\n",
    "\n",
    "# Məsələn, cins dəyərlərinə uyğun rənglər\n",
    "color_map = {\n",
    "    'Kişi': 'blue',\n",
    "    'Qadın': 'red',\n",
    "    'Hər ikisi': 'green'\n",
    "}\n",
    "\n",
    "# Rənglər üçün yeni bir sütun yaradın\n",
    "cins_yas_say_pro['Rəng'] = cins_yas_say_pro['Cins'].map(color_map)\n",
    "\n",
    "# Yaş qrupları üzrə faizləri hesablayın və yuvarlayın\n",
    "for age_group in ['0 yaş','1-4', '5-9', '10-14', '15-19', '20-24', '25-29', \n",
    "                  '30-34', '35-39', '40-44', '45-49', '50-54', '55-59', \n",
    "                  '60-64', '65-69', '70-74', '75-79', '80-84', '85 və yuxarı']:\n",
    "    cins_yas_say_pro[f'{age_group} Faiz'] = round((cins_yas_say_pro[age_group] / cins_yas_say_pro['Cəmi']) * 100, 2)\n",
    "\n",
    "# Subplotları yaradın\n",
    "fig = make_subplots(rows=19, cols=1, shared_xaxes=True, \n",
    "                    subplot_titles=('0 yaş', '1-4', '5-9', '10-14', '15-19', '20-24', \n",
    "                                    '25-29', '30-34', '35-39', '40-44', \n",
    "                                    '45-49', '50-54', '55-59', '60-64', \n",
    "                                    '65-69', '70-74', '75-79', '80-84', \n",
    "                                    '85 və yuxarı'))\n",
    "\n",
    "# Hər bir yaş qrupu üçün scatter əlavə etmək\n",
    "for i, age_group in enumerate(['0 yaş','1-4', '5-9', '10-14', '15-19', '20-24', \n",
    "                               '25-29', '30-34', '35-39', '40-44', '45-49', \n",
    "                               '50-54', '55-59', '60-64', '65-69', '70-74', \n",
    "                               '75-79', '80-84', '85 və yuxarı']):\n",
    "    fig.add_trace(go.Scatter(x=cins_yas_say_pro['İl'], \n",
    "                             y=cins_yas_say_pro[f'{age_group} Faiz'], \n",
    "                             mode='markers',  # Yalnız markerlər\n",
    "                             name=age_group, \n",
    "                             marker=dict(color=cins_yas_say_pro['Rəng'])),\n",
    "                  row=i+1, col=1)\n",
    "\n",
    "# Qrafiki dizayn et\n",
    "fig.update_layout(height=3000, width=800, title_text=\"Yaş Qrupları üzrə Ölüm Faizinin İllər üzrə Dəyişməsi\")\n",
    "fig.show()\n",
    "\n"
   ]
  },
  {
   "cell_type": "markdown",
   "id": "9fac89a6-00a5-4ebf-897b-6b1fadd928f3",
   "metadata": {},
   "source": [
    "# 3 cü sual"
   ]
  },
  {
   "cell_type": "markdown",
   "id": "cc465623-c5cd-4551-b082-20378adb99a1",
   "metadata": {},
   "source": [
    "### Sual 3\n",
    "Ölüm əmsalının yaş qrupları üzrə bölgüsündə kişi və qadın əhali üzrə müşahidə\n",
    "olunan tendensiyaları müqayisəli təsvir edin. Bu müqayisəli təsvirdə nəzərə çarpa \r\n",
    "əsas məqamları göstərin və onları izah edin (yalnız 2022-ci il üzr\n",
    "\n",
    "#### Analiz nəticələri\n",
    "Yaş qrupları artdıqca kişi və qadın əhalisi üçün ölüm faizi yüksəlir.\n",
    "Kişilər, xüsusilə yaşlı yaş qruplarında (80 və yuxarı) daha yüksək ölüm faizinə sahibdir.\n",
    "Orta yaş və gənclik dövründə kişi və qadınlar arasında əhəmiyyətli fərqlər yoxdur, lakin yaşlandıqca kişilərin ölüm faizi qadınlara nisbətən daha yüksək olur. Bu fərq həyat tərzi, sağlamlıq riskləri və qadınların daha uzunömürlü olması ilə izah edilə bilər.);"
   ]
  },
  {
   "cell_type": "code",
   "execution_count": null,
   "id": "6c62f468-3db6-4c20-8e63-db613a1ac497",
   "metadata": {},
   "outputs": [],
   "source": [
    "# 3cu task\n",
    "import plotly.graph_objects as go\n",
    "import pandas as pd\n",
    "\n",
    "# Rəng mapası\n",
    "color_map1 = {\n",
    "    'Kişi': 'blue',\n",
    "    'Qadın': 'red',\n",
    "    'Hər ikisi': 'green'\n",
    "}\n",
    "\n",
    "# Rənglər üçün yeni bir sütun yaradın\n",
    "cins_yas_emsal_pro['Rəng'] = cins_yas_emsal_pro['Cins'].map(color_map1)\n",
    "\n",
    "# 2022 ilinə uyğun olan məlumatları seçin\n",
    "data_2022 = cins_yas_emsal_pro[cins_yas_emsal_pro['İl'] == 2022]\n",
    "\n",
    "# Yaş qruplarını müəyyən edin\n",
    "age_groups = ['01)', '1-4', '5-9', '10-14', '15-19', '20-24', \n",
    "              '25-29', '30-34', '35-39', '40-44', '45-49', \n",
    "              '50-54', '55-59', '60-64', '65-69', '70-74', \n",
    "              '75-79', '80-84', '85 və yuxarı']\n",
    "\n",
    "fig = go.Figure()\n",
    "\n",
    "# Hər bir cins üçün trend xətti əlavə edin\n",
    "for cins in data_2022['Cins'].unique():\n",
    "    # Müvafiq cins üçün məlumatları seçin\n",
    "    cins_data = data_2022[data_2022['Cins'] == cins]\n",
    "    \n",
    "    # X və Y dəyərlərini müəyyən edin\n",
    "    y_values = [cins_data[age_group].values[0] if not cins_data[age_group].empty else 0 for age_group in age_groups]\n",
    "    \n",
    "    # Trend xətti əlavə edin\n",
    "    fig.add_trace(go.Scatter(\n",
    "        x=age_groups,\n",
    "        y=y_values,\n",
    "        mode='lines+markers',\n",
    "        name=cins,\n",
    "        line=dict(color=color_map1[cins]),\n",
    "        marker=dict(size=8)\n",
    "    ))\n",
    "\n",
    "# Qrafiki göstərin\n",
    "fig.update_layout(\n",
    "    title_text=\"Yaş Qrupları üzrə Cinsin Trend Xətləri (2022)\",\n",
    "    xaxis_title=\"Yaş Qrupları\",\n",
    "    yaxis_title=\"Say\",\n",
    "    height=600,\n",
    "    width=800\n",
    ")\n",
    "\n",
    "fig.show()\n"
   ]
  },
  {
   "cell_type": "markdown",
   "id": "7a3ccd64-ea77-441b-bf5c-f659b949e154",
   "metadata": {
    "jp-MarkdownHeadingCollapsed": true
   },
   "source": [
    "# 4 cu sual"
   ]
  },
  {
   "cell_type": "markdown",
   "id": "d29656d7-46ef-47be-ac74-0a551fccc53b",
   "metadata": {},
   "source": [
    "### Sual 4\n",
    "Ölüm əmsalının yaş qrupları üzrə bölgüsündə şəhər və kənd əhali üzrə müşahidə\r\n",
    "olunan tendensiyaları müqayisəli təsvir edin. Bu qarşılıqlı təsvirdə nəzərə çarpan əsas\r\n",
    "məqamları göstərin və onların izah edin (yalnız 2022-ci il üzrə\n",
    ");\n",
    "#### Analiz nəticələ\n",
    "2022-ci il üçün şəhər və kənd əhalisinin ölüm əmsallarının yaş qrupları üzrə bölgüsü göstərir ki, yaş artdıqca hər iki qrupda da ölüm riski artmaqdadır. Lakin kənd yerlərində yaşlı əhali arasında ölüm əmsalının daha yüksək olması kənddə yaşayan insanların daha az səhiyyə imkanlarına malik olması ilə əlaqədar ola bilər. Bu nəticələr gələcək səhiyyə və sosial təminat proqramlarının planlaşdırılmasında nəzərə alınmalıdır.ri"
   ]
  },
  {
   "cell_type": "code",
   "execution_count": null,
   "id": "bf7af185-bbbc-461b-bcb9-66c06983a900",
   "metadata": {},
   "outputs": [],
   "source": [
    "# 2022-ci il üzrə məlumatları seçin\n",
    "df5_pro_2022 = cins_yas_emsal_seher_pro[cins_yas_emsal_seher_pro['İl'] == 2022] #emsala gore olum kennde\n",
    "df6_pro_2022 = cins_yas_emsal_kend_pro[cins_yas_emsal_kend_pro['İl'] == 2022]#emsala gore olum seherde"
   ]
  },
  {
   "cell_type": "code",
   "execution_count": null,
   "id": "f6e5b2fb-1505-4613-aac0-4bb08db04657",
   "metadata": {},
   "outputs": [],
   "source": [
    "#4cu sual\n",
    "import plotly.express as px\n",
    "\n",
    "# Şəhər üçün məlumatlar (stack bar qrafiki)\n",
    "city_melted = df5_pro_2022.melt(id_vars=['Cins', 'İl'], var_name='Yaş qrupu', value_name='Əmsal')\n",
    "fig_city = px.bar(city_melted, x='İl', y='Əmsal', color='Cins', barmode='stack', \n",
    "                  facet_col='Yaş qrupu', title=\"Şəhər üzrə ölüm əmsalları (2022)\", \n",
    "                  facet_col_spacing=0.02)  # Sütunlar arasındakı boşluğu azaldır\n",
    "\n",
    "# 'Yaş qrupu' başlığını gizlətmək\n",
    "fig_city.for_each_annotation(lambda a: a.update(text=a.text.split('=')[1]))\n",
    "\n",
    "# Plotun ölçüsünü və yazıların ölçüsünü tənzimləyirik\n",
    "fig_city.update_layout(height=700, width=1200, title_font_size=18, margin=dict(t=60))\n",
    "fig_city.update_xaxes(tickangle=45, automargin=True)  # X oxundakı yazıların bucağını tənzimləmək\n",
    "fig_city.update_yaxes(automargin=True)  # Y oxu üçün automargin\n",
    "fig_city.update_layout(font=dict(size=10))  # Yazıların ölçüsünü kiçildirik\n",
    "fig_city.show()\n",
    "\n",
    "# Kənd üçün məlumatlar (stack bar qrafiki)\n",
    "village_melted = df6_pro_2022.melt(id_vars=['Cins', 'İl'], var_name='Yaş qrupu', value_name='Əmsal')\n",
    "fig_village = px.bar(village_melted, x='İl', y='Əmsal', color='Cins', barmode='stack', \n",
    "                     facet_col='Yaş qrupu', title=\"Kənd üzrə ölüm əmsalları (2022)\", \n",
    "                     facet_col_spacing=0.02)  # Sütunlar arasındakı boşluğu azaldır\n",
    "\n",
    "# 'Yaş qrupu' başlığını gizlətmək\n",
    "fig_village.for_each_annotation(lambda a: a.update(text=a.text.split('=')[1]))\n",
    "\n",
    "# Plotun ölçüsünü və yazıların ölçüsünü tənzimləyirik\n",
    "fig_village.update_layout(height=700, width=1200, title_font_size=18, margin=dict(t=60))\n",
    "fig_village.update_xaxes(tickangle=45, automargin=True)  # X oxundakı yazıların bucağını tənzimləmək\n",
    "fig_village.update_yaxes(automargin=True)  # Y oxu üçün automargin\n",
    "fig_village.update_layout(font=dict(size=10))  # Yazıların ölçüsünü kiçildirik\n",
    "fig_village.show()\n"
   ]
  },
  {
   "cell_type": "code",
   "execution_count": null,
   "id": "80a28b75-1dc6-4dc3-a2a1-9a33d248b7a6",
   "metadata": {},
   "outputs": [],
   "source": [
    "erazi_1_yas = pd.read_excel('004_9.xls')"
   ]
  },
  {
   "cell_type": "code",
   "execution_count": null,
   "id": "72f67c85-ad9b-4480-82f4-1578c44811d5",
   "metadata": {
    "scrolled": true
   },
   "outputs": [],
   "source": [
    "erazi_1_yas.head(50)"
   ]
  },
  {
   "cell_type": "code",
   "execution_count": null,
   "id": "e67b61a1-158d-4927-82b7-89014a6d91a8",
   "metadata": {},
   "outputs": [],
   "source": [
    " erazi_1_yas.drop(list(range(20)), inplace=True)"
   ]
  },
  {
   "cell_type": "code",
   "execution_count": null,
   "id": "2a65a24b-8a31-4689-87e5-8404be4967d8",
   "metadata": {
    "scrolled": true
   },
   "outputs": [],
   "source": [
    "erazi_1_yas.head(50)\n"
   ]
  },
  {
   "cell_type": "code",
   "execution_count": null,
   "id": "5aa05829-eb11-4b08-b7fd-a73b0361f04d",
   "metadata": {},
   "outputs": [],
   "source": [
    "erazi_1_yas.drop('Unnamed: 0',axis=1,inplace=True)"
   ]
  },
  {
   "cell_type": "code",
   "execution_count": null,
   "id": "c3a503f4-5fae-4524-b68c-c3dd99c0ed02",
   "metadata": {},
   "outputs": [],
   "source": [
    "erazi_1_yas_22 = erazi_1_yas[erazi_1_yas['Unnamed: 2'] == 2022]"
   ]
  },
  {
   "cell_type": "code",
   "execution_count": null,
   "id": "e3570c12-7e4f-40ce-836a-3e0882c8f0c0",
   "metadata": {},
   "outputs": [],
   "source": []
  },
  {
   "cell_type": "code",
   "execution_count": null,
   "id": "184bd08d-6cbc-4026-bd51-91ba486e1255",
   "metadata": {},
   "outputs": [],
   "source": [
    "erazi_1_yas_22['seher ve rayon'] = erazi_1_yas['Unnamed: 1'].shift(13)"
   ]
  },
  {
   "cell_type": "code",
   "execution_count": null,
   "id": "718ddf6c-1aa4-46d8-ad8e-1c3ed36f8e65",
   "metadata": {},
   "outputs": [],
   "source": [
    "erazi_1_yas_22.drop('Unnamed: 1',axis=1,inplace=True)"
   ]
  },
  {
   "cell_type": "code",
   "execution_count": null,
   "id": "479a45dc-284c-48aa-a792-c3f02381bbe0",
   "metadata": {},
   "outputs": [],
   "source": [
    "erazi_1_yas_22"
   ]
  },
  {
   "cell_type": "code",
   "execution_count": null,
   "id": "b21faec8-5049-4b4a-b2d5-6c655d0060e3",
   "metadata": {},
   "outputs": [],
   "source": [
    "erazi_1_yas_22.drop(columns = ['Unnamed: 2','Unnamed: 4', 'Unnamed: 5', 'Unnamed: 7','Unnamed: 8'],axis=1,inplace=True)"
   ]
  },
  {
   "cell_type": "code",
   "execution_count": null,
   "id": "2f8edfe9-4ce9-44ad-8d81-1a09b9049204",
   "metadata": {},
   "outputs": [],
   "source": [
    "erazi_1_yas_22.rename(columns = {'Unnamed: 3' : 'Say','Unnamed: 6' : 'Emsal'},inplace=True)"
   ]
  },
  {
   "cell_type": "code",
   "execution_count": null,
   "id": "c89ad8e3-3851-47e2-ab3b-8ad136042136",
   "metadata": {},
   "outputs": [],
   "source": [
    "erazi_1_yas_22 = erazi_1_yas_22.reset_index(drop=True)"
   ]
  },
  {
   "cell_type": "code",
   "execution_count": null,
   "id": "5f7bad38-c03d-4d77-a440-a3d0e0407ac3",
   "metadata": {},
   "outputs": [],
   "source": [
    "erazi_1_yas_22.head(50)"
   ]
  },
  {
   "cell_type": "code",
   "execution_count": null,
   "id": "ac1d5948-5e80-416f-ace1-9ce995524663",
   "metadata": {},
   "outputs": [],
   "source": [
    "erazi_1_yas_22 = erazi_1_yas_22.drop(erazi_1_yas_22[erazi_1_yas_22['seher ve rayon'].str.contains('cəmi', case=False)].index[1:])"
   ]
  },
  {
   "cell_type": "code",
   "execution_count": null,
   "id": "a221b0ef-165a-48a4-b394-bad5e7988f5a",
   "metadata": {},
   "outputs": [],
   "source": [
    "erazi_1_yas_22 = erazi_1_yas_22.replace('-','0')\n",
    "erazi_1_yas_22 = erazi_1_yas_22.replace('...','0')"
   ]
  },
  {
   "cell_type": "code",
   "execution_count": null,
   "id": "bc84e561-6d48-4d5e-9bcc-adea3182ce3d",
   "metadata": {},
   "outputs": [],
   "source": [
    "erazi_1_yas_22['Say'] = erazi_1_yas_22['Say'].astype(int)\n",
    "erazi_1_yas_22['Emsal'] = erazi_1_yas_22['Emsal'].astype(float)"
   ]
  },
  {
   "cell_type": "code",
   "execution_count": null,
   "id": "ab83c8e5-8e14-4f8e-9d4d-f68271954708",
   "metadata": {},
   "outputs": [],
   "source": [
    "erazi_1_yas_22.drop([12], inplace=True)"
   ]
  },
  {
   "cell_type": "code",
   "execution_count": null,
   "id": "42e8b598-639e-4f9d-bc7e-09df92713cf0",
   "metadata": {},
   "outputs": [],
   "source": [
    "erazi_1_yas_2022 = erazi_1_yas_22.sort_values(by = ['Say'],ascending = False)"
   ]
  },
  {
   "cell_type": "code",
   "execution_count": null,
   "id": "ad686553-b1b1-4fc3-add4-998bb4ad9488",
   "metadata": {},
   "outputs": [],
   "source": [
    "erazi_1_yas_2022"
   ]
  },
  {
   "cell_type": "markdown",
   "id": "d9e35aa9-d700-44bb-adbc-62a5273ce6be",
   "metadata": {},
   "source": [
    "### Sual 5(1 yaşadək)\n",
    "\n",
    "#### Analiz nəticələri"
   ]
  },
  {
   "cell_type": "code",
   "execution_count": null,
   "id": "322a3ace-37ef-4550-8cbe-864bb02775b2",
   "metadata": {},
   "outputs": [],
   "source": [
    "px.bar(data_frame = erazi_1_yas_2022.head(5) ,x ='seher ve rayon',y = 'Say')"
   ]
  },
  {
   "cell_type": "code",
   "execution_count": null,
   "id": "b4cd6840-ebe3-4f31-881e-12691c837ade",
   "metadata": {},
   "outputs": [],
   "source": [
    "px.bar(data_frame = erazi_1_yas_2022.tail(5) ,x ='seher ve rayon',y = 'Say')"
   ]
  },
  {
   "cell_type": "markdown",
   "id": "58f3dfab-c267-4e14-866c-a03632bbfb90",
   "metadata": {
    "jp-MarkdownHeadingCollapsed": true
   },
   "source": [
    "# 5-6 sual"
   ]
  },
  {
   "cell_type": "code",
   "execution_count": null,
   "id": "d1028a7e-545f-4ba4-944b-8029d2d8ee5f",
   "metadata": {},
   "outputs": [],
   "source": [
    "sayi_2023 = pd.read_excel('004_11.xls')"
   ]
  },
  {
   "cell_type": "code",
   "execution_count": null,
   "id": "8248093e-cd76-4557-a81b-a271374278b5",
   "metadata": {},
   "outputs": [],
   "source": [
    "pd.set_option('display.max_rows',None)\n",
    "pd.set_option('display.max_columns',None)\n",
    "sayi_2023"
   ]
  },
  {
   "cell_type": "code",
   "execution_count": null,
   "id": "9ab02552-900d-46ba-ad0a-167680ceb00b",
   "metadata": {},
   "outputs": [],
   "source": [
    "sayi_2023.drop([0,1,2,3,6,8,21,23,32,34,38,40,45,47,54,56,67,69,75,77,83,85,92,94,102,104,109,111,118,120,126,128],inplace=True)"
   ]
  },
  {
   "cell_type": "code",
   "execution_count": null,
   "id": "105f5983-3cbe-4c04-9f38-c084e4dce97d",
   "metadata": {},
   "outputs": [],
   "source": [
    "sayi_23 = sayi_2023[['Unnamed: 1','Unnamed: 3','Unnamed: 19','Unnamed: 20']]"
   ]
  },
  {
   "cell_type": "code",
   "execution_count": null,
   "id": "d12447b6-e6a0-402e-958b-0776516dbe31",
   "metadata": {},
   "outputs": [],
   "source": [
    "sayi_23.rename(columns = {'Unnamed: 1' : 'seher ve rayon','Unnamed: 3':'Usaq','Unnamed: 19':'80-84','Unnamed: 20':'85+'},inplace=True)"
   ]
  },
  {
   "cell_type": "code",
   "execution_count": null,
   "id": "a7b56386-9824-4a37-ad58-cd2b95d1bfe9",
   "metadata": {},
   "outputs": [],
   "source": [
    "sayi_23 = sayi_23.reset_index(drop=True)"
   ]
  },
  {
   "cell_type": "code",
   "execution_count": null,
   "id": "16a66de9-b9c8-4250-8867-26ff4275c445",
   "metadata": {},
   "outputs": [],
   "source": [
    "sayi_23.drop(0,inplace=True)"
   ]
  },
  {
   "cell_type": "code",
   "execution_count": null,
   "id": "6dac94d3-2df0-48a7-b8a8-e1f6809ea37c",
   "metadata": {},
   "outputs": [],
   "source": [
    "sayi_23 = sayi_23.drop(sayi_23[sayi_23['seher ve rayon'].str.contains('cəmi', case=False)].index)"
   ]
  },
  {
   "cell_type": "code",
   "execution_count": null,
   "id": "86789246-2148-4cd0-bc64-21eade4cb7a3",
   "metadata": {},
   "outputs": [],
   "source": [
    "sayi_23['Ahil'] = sayi_23['80-84'] + sayi_23['85+']\n",
    "\n",
    "sayi_23.drop(['80-84', '85+'], axis=1, inplace=True)"
   ]
  },
  {
   "cell_type": "code",
   "execution_count": null,
   "id": "21e128bd-d493-42df-ba8e-29dff75e45b3",
   "metadata": {},
   "outputs": [],
   "source": [
    "sayi_23 = sayi_23.replace('...','0')\n",
    "sayi_23 = sayi_23.replace('......','0')"
   ]
  },
  {
   "cell_type": "code",
   "execution_count": null,
   "id": "c2faaa0e-08c8-49c3-92fe-5b0b3c4ce0ec",
   "metadata": {},
   "outputs": [],
   "source": [
    "sayi_23['Usaq'] = sayi_23['Usaq'].astype(int)\n",
    "sayi_23['Ahil'] = sayi_23['Ahil'].astype(int)"
   ]
  },
  {
   "cell_type": "code",
   "execution_count": null,
   "id": "dbb1f72c-8a51-4a29-8915-fbb3242241b1",
   "metadata": {},
   "outputs": [],
   "source": [
    "sayi_23 = sayi_23.reset_index(drop=True)"
   ]
  },
  {
   "cell_type": "code",
   "execution_count": null,
   "id": "5e827861-bcb6-4d1a-b87d-7d6837530071",
   "metadata": {},
   "outputs": [],
   "source": [
    "sayi_23"
   ]
  },
  {
   "cell_type": "code",
   "execution_count": null,
   "id": "b0dd120c-8734-4201-9b26-94fd0af39a08",
   "metadata": {},
   "outputs": [],
   "source": [
    "sayi_usaq_23 = sayi_23.sort_values(by = ['Usaq'],ascending = False)"
   ]
  },
  {
   "cell_type": "code",
   "execution_count": null,
   "id": "0208a78c-8e6b-48ee-9844-d3049f4fd72d",
   "metadata": {},
   "outputs": [],
   "source": [
    "sayi_ahil_23 = sayi_23.sort_values(by = ['Ahil'],ascending = False)"
   ]
  },
  {
   "cell_type": "markdown",
   "id": "4a6eb313-b98d-40e7-9e93-acc7e1173c39",
   "metadata": {},
   "source": [
    "### Sual 5\n",
    "Uşaq ölümünün ən çox (top 5) və an az (bottom 5) müşahidə olunduğu şəhər və\r\n",
    "rayonları təsvir edin. Regional təhlildə ortaya çıxan əsas qanunauyğunluqları göstərin\r\n",
    "və onların ehtimal olunan səbəblərini izah edin (yalnız 2022-ci il üzrə)\n",
    "###Ən Çox 5\n",
    "Uşaq ölümünün səbəbləri əhalinin sıxlığı və bu səbəbdən tibb müəssisələrinin çatışmazlığı ola bilər (Yasamal və Xətai rayonları Bakının mərkəzi rayonları olduğunu nəzərə alaraq)\n",
    "Digər regionlarda isə səhiyyə xidmətlərinin səviyyə və keyfiyyətin az olması ilə əlaqədar ola bilər.\n",
    "Məsələn, kənd rayonlarında səhiyyə imkanlarının məhdud olması uşaq ölüm nisbətini artıran faktorlardan biridir(Masallı və Lənkəran)\n",
    "\n",
    "#### Ən Az 5\n",
    "Uşaq ölümünün az olduğu şəhər və kəndlərin əsasən müharibə bölgələri olduğunu görə bilərik buda orada yaşayanəhalinin sayca ya az olmasından ya da heç olmamasından qaynaqlanırri"
   ]
  },
  {
   "cell_type": "code",
   "execution_count": null,
   "id": "63fa1e5e-df4b-493a-9dd4-18dffc5d3ae3",
   "metadata": {},
   "outputs": [],
   "source": [
    "px.bar(data_frame = sayi_usaq_23.head(5) ,x ='seher ve rayon',y = 'Usaq')"
   ]
  },
  {
   "cell_type": "code",
   "execution_count": null,
   "id": "48eb302c-0cdc-4137-89bf-30ce28ae719e",
   "metadata": {},
   "outputs": [],
   "source": [
    "px.bar(data_frame = sayi_usaq_23.tail(5) ,x ='seher ve rayon',y = 'Usaq')"
   ]
  },
  {
   "cell_type": "markdown",
   "id": "fd617faf-6d2b-4440-941d-2304980d602c",
   "metadata": {},
   "source": [
    "### Sual 6\n",
    "Ahıl yaşda ölümün ən çox (top 5) və an az (bottom 5) müşahidə olunduğu şəhər və\r\n",
    "rayonları təsvir edin. Regional təhlildə ortaya çıxan əsas qanunauyğunluqları göstərin\r\n",
    "və onların ehtimal olunan səbəblərini izah edin (yalnız 2022-ci il üzrə);\n",
    "###Analiz nəticələri\n",
    "\n",
    "Azərbaycanda ahıl yaşda ölüm nisbətləri bölgələr üzrə fərqlənir. Bu fərqlərin əsas səbəbləri sosial-iqtisadi, ətraf mühit və həyat tərzi amilləri ola bilər. Aşağı gəlirli insanların tibbi xidmətlərə çıxışının məhdud olması, siqaret və alkoqol kimi zərərli vərdişlərin geniş yayılması, eləcə də hava çirkliliyi və suyun keyfiyyəti kimi ekoloji faktorlar yaşlı əhalinin sağlamlığına mənfi təsir göstərir. Bölgələrarası bu fərqləri azaltmaq üçün səhiyyə xidmətlərinin əlçatanlığını artırmaq, maarifləndirmə kampaniyaları təşkil etmək və ekoloji problemləri həll etmək vacibdir. 5"
   ]
  },
  {
   "cell_type": "code",
   "execution_count": null,
   "id": "85aa1ec7-fb5b-4855-af64-34ee04464f09",
   "metadata": {},
   "outputs": [],
   "source": [
    "px.bar(data_frame = sayi_ahil_23.head(5) ,x ='seher ve rayon',y = 'Ahil')"
   ]
  },
  {
   "cell_type": "code",
   "execution_count": null,
   "id": "c0c95ded-8baa-4012-bb61-973daf24f03b",
   "metadata": {},
   "outputs": [],
   "source": [
    "px.bar(data_frame = sayi_ahil_23.tail(5) ,x ='seher ve rayon',y = 'Ahil')"
   ]
  },
  {
   "cell_type": "markdown",
   "id": "62807eaf-2023-40b6-a54d-938e4660290f",
   "metadata": {},
   "source": [
    "# 7ci sual"
   ]
  },
  {
   "cell_type": "code",
   "execution_count": null,
   "id": "dae7b065-c434-4c89-a655-3b37fff5ac76",
   "metadata": {},
   "outputs": [],
   "source": [
    "sebeb_olum = pd.read_excel('005_1-2.xls',sheet_name = '5.1.')"
   ]
  },
  {
   "cell_type": "code",
   "execution_count": null,
   "id": "5316dc96-9a96-4281-ad2b-3c565ac429ed",
   "metadata": {
    "scrolled": true
   },
   "outputs": [],
   "source": [
    "sebeb_olum"
   ]
  },
  {
   "cell_type": "code",
   "execution_count": null,
   "id": "79cd9888-7974-42dc-881d-eb212347b00d",
   "metadata": {},
   "outputs": [],
   "source": [
    "alpha = sebeb_olum.iloc[[3, 5,  7, 8, 12, 13, 14, 23]]"
   ]
  },
  {
   "cell_type": "code",
   "execution_count": null,
   "id": "f26da319-4544-4a12-b0dd-8201b7d1a65e",
   "metadata": {},
   "outputs": [],
   "source": [
    "alpha\n"
   ]
  },
  {
   "cell_type": "code",
   "execution_count": null,
   "id": "90536e12-cd13-4ebe-b9ee-29e3119ccd36",
   "metadata": {},
   "outputs": [],
   "source": [
    "alpha.drop(columns = ['Unnamed: 0', 'Unnamed: 36', 'Unnamed: 37'],axis=1, inplace=True)"
   ]
  },
  {
   "cell_type": "code",
   "execution_count": null,
   "id": "b057f276-6cb5-4a80-a110-0240f7a9ae16",
   "metadata": {},
   "outputs": [],
   "source": [
    "alpha = alpha.set_index('Unnamed: 1').T"
   ]
  },
  {
   "cell_type": "code",
   "execution_count": null,
   "id": "7748b71d-c4fc-4c4e-a847-def81e01517a",
   "metadata": {
    "scrolled": true
   },
   "outputs": [],
   "source": [
    "alpha"
   ]
  },
  {
   "cell_type": "code",
   "execution_count": null,
   "id": "a9d2b90f-5ba0-4bd1-a3a4-540f8f8dc280",
   "metadata": {},
   "outputs": [],
   "source": [
    "alpha = alpha.reset_index(drop=True)"
   ]
  },
  {
   "cell_type": "code",
   "execution_count": null,
   "id": "cf22d8d1-e7f0-41d2-befe-38fe1100e27f",
   "metadata": {},
   "outputs": [],
   "source": [
    "alpha.rename(columns={'Əsas səbəblər': 'İl'}, inplace=True)\n"
   ]
  },
  {
   "cell_type": "code",
   "execution_count": null,
   "id": "3392122b-9425-43ed-8fc2-4c888578d742",
   "metadata": {
    "scrolled": true
   },
   "outputs": [],
   "source": [
    "alpha"
   ]
  },
  {
   "cell_type": "code",
   "execution_count": null,
   "id": "041b05c5-7567-49e9-a537-a5ccd09c5f60",
   "metadata": {
    "scrolled": true
   },
   "outputs": [],
   "source": [
    "alpha.rename(columns = {'- bəzi infeksion və parazitar xəstəliklərdən' : 'infeksion_xestelikler', \n",
    "                             '- yenitörəmələrdən' : 'yenitoremeler',\n",
    "                             '- sinir sisteminin xəstəliklərindən' : 'sinir_sistemi_xestelikleri',\n",
    "                             ' - qan dövranı sisteminin xəstəliklərindən' : 'qan_dovrani_xestelilkleri', \n",
    "                             '- tənəffüs sistemi xəstəliklərindən' : 'teneffus_xestelikleri',\n",
    "                             '- travmalar, zəhərlənmələr və xarici səbəblərin təsirinin digər nəticələrindən' : 'travma_zeherlenme',\n",
    "                             'Bütün səbəblərdən ölənlərin sayı' : 'Cemi'},inplace=True)"
   ]
  },
  {
   "cell_type": "code",
   "execution_count": null,
   "id": "b72c5ba8-fdee-43c5-b5f6-05a5b0d39404",
   "metadata": {
    "scrolled": true
   },
   "outputs": [],
   "source": [
    "alpha = alpha.astype(int)"
   ]
  },
  {
   "cell_type": "markdown",
   "id": "e8a34f74-5626-4457-b068-1f65172aea76",
   "metadata": {},
   "source": [
    "### Sual 7 \n",
    "Ölüm sayının ölümə səbəb olan əsas xəstəlik növləri üzrə faiz nisbətinin son 20 il\r\n",
    "ərzində dəyişmə dinamikasını təsvir edin. Bu dinamikada əhəmiyyətli dəyişikliklər\r\n",
    "olubmu? Müşahidə etdiyiniz əsas tendensiyaları göstərin və onların ehtimal olunan\r\n",
    "səbəblərini izah edi#### Analiz nəticələri (Mənbə: Chatgpt)n\n",
    "\n",
    "\n",
    "Əsas Tendensiyalar:\n",
    "\n",
    "İnfeksion Xəstəliklər: İnfeksion xəstəliklərdən ölümlərdə əhəmiyyətli bir azalma müşahidə olunub ki, bu da ictimai sağlamlıq tədbirlərinin və vaksinasiya proqramlarının yaxşılaşması ilə əlaqəlidir.\n",
    "\n",
    "Neoplazmalar (Xərçənglər): Xərçəng səbəbindən ölümlərdə davamlı artım qeydə alınıb, bu isə yaşlanan əhali və həyat tərzi dəyişiklikləri ilə bağlıdır.\n",
    "\n",
    "Sinir Sistemi Xəstəlikləri: Sinir sistemi xəstəliklərindən ölümlər dalğalanmalar göstərir, bu da diaqnostika və müalicədəki irəliləyişlərdən təsirlənə bilər.\n",
    "\n",
    "Kardiovaskulyar Xəstəliklər: Kardiovaskulyar xəstəliklər ölümlərin əsas səbəbləri arasında qalmaqdadır və stabil nisbətlər nümayiş etdirir, bu da hipertoniya və diabet kimi risk faktorlarına diqqət yetirilməsinin zəruriliyini göstərir.\n",
    "\n",
    "Tənəffüs Xəstəlikləri: Tənəffüs xəstəliklərindən ölümlərdə azalma tendensiyası mövcuddur ki, bu da hava keyfiyyətinin yaxşılaşması və sağlamlıq məlumatlarının artması ilə bağlıdır.\n",
    "\n",
    "Zədələr və Z отравленияlar: Zədələr və z отравленияlardan ölümlərdə azalma müşahidə olunmuşdur ki, bu da təhlükəsizlik tənzimləmələrinin gücləndirilməsi və ictimai məlumatlandırma kampaniyaları ilə əlaqədardır.\n",
    "\n",
    "Nəticə: Bu tendensiyalar, ictimai sağlamlıq və səhiyyəyə çıxışdakı irəliləyişləri göstərsə də, xroniki xəstəliklərlə bağlı davam edən problemləri də ortaya qoyur. Gələcək səylər, hədəflənmiş sağlamlıq təşəbbüslərinə, həyat tərzi dəyişikliklərinə və səhiyyəyə çıxışın artırılmasına yönəlməlidir ki, ölüm nisbətlərini daha da azaltmaq mümkün olsun."
   ]
  },
  {
   "cell_type": "code",
   "execution_count": null,
   "id": "feddb5cc-8602-45b7-9901-602d3cba03c5",
   "metadata": {},
   "outputs": [],
   "source": [
    "\n",
    "df_filtered = alpha[(alpha['İl'] >= 2003) & (alpha['İl'] <= 2023)]\n",
    "\n",
    "df_filtered['infeksion_faiz'] = round((df_filtered['infeksion_xestelikler'] / df_filtered['Cemi']) * 100, 2)\n",
    "df_filtered['yenitoremeler_faiz'] = round((df_filtered['yenitoremeler'] / df_filtered['Cemi']) * 100, 2)\n",
    "df_filtered['sinir_sistemi_faiz'] = round((df_filtered['sinir_sistemi_xestelikleri'] / df_filtered['Cemi']) * 100, 2)\n",
    "df_filtered['qan_dovrani_faiz'] = round((df_filtered['qan_dovrani_xestelilkleri'] / df_filtered['Cemi']) * 100, 2)\n",
    "df_filtered['teneffus_faiz'] = round((df_filtered['teneffus_xestelikleri'] / df_filtered['Cemi']) * 100, 2)\n",
    "df_filtered['travma_faiz'] = round((df_filtered['travma_zeherlenme'] / df_filtered['Cemi']) * 100, 2)\n",
    "\n",
    "fig = make_subplots(rows=3, cols=2, subplot_titles=(\n",
    "    'İnfeksiya xəstəlikləri Faiz Nisbəti', 'Yenitörəmələr Faiz Nisbəti',\n",
    "    'Sinir sistemi xəstəlikləri Faiz Nisbəti', 'Qan dövranı xəstəlikləri Faiz Nisbəti',\n",
    "    'Tənəffüs xəstəlikləri Faiz Nisbəti', 'Travmalar və Zəhərlənmə Faiz Nisbəti'))\n",
    "\n",
    "fig.add_trace(go.Scatter(x=df_filtered['İl'], y=df_filtered['infeksion_faiz'], mode='lines+markers', name='İnfeksiya Faiz Nisbəti'), row=1, col=1)\n",
    "fig.add_trace(go.Scatter(x=df_filtered['İl'], y=df_filtered['yenitoremeler_faiz'], mode='lines+markers', name='Yenitörəmələr Faiz Nisbəti'), row=1, col=2)\n",
    "fig.add_trace(go.Scatter(x=df_filtered['İl'], y=df_filtered['sinir_sistemi_faiz'], mode='lines+markers', name='Sinir sistemi Faiz Nisbəti'), row=2, col=1)\n",
    "fig.add_trace(go.Scatter(x=df_filtered['İl'], y=df_filtered['qan_dovrani_faiz'], mode='lines+markers', name='Qan dövranı Faiz Nisbəti'), row=2, col=2)\n",
    "fig.add_trace(go.Scatter(x=df_filtered['İl'], y=df_filtered['teneffus_faiz'], mode='lines+markers', name='Tənəffüs Faiz Nisbəti'), row=3, col=1)\n",
    "fig.add_trace(go.Scatter(x=df_filtered['İl'], y=df_filtered['travma_faiz'], mode='lines+markers', name='Travmalar Faiz Nisbəti'), row=3, col=2)\n",
    "\n",
    "fig.update_layout(title_text=\"Xəstəlik növləri üzrə ölüm halları Faiz Nisbətləri - 2003-2023\", height=800, showlegend=False)\n",
    "\n",
    "fig.show()\n"
   ]
  },
  {
   "cell_type": "markdown",
   "id": "58ce941b-ba48-48fc-8b65-63b48707229e",
   "metadata": {},
   "source": [
    "# 8ci sual"
   ]
  },
  {
   "cell_type": "code",
   "execution_count": null,
   "id": "baeba876-6cc3-493d-b174-09a4d732a721",
   "metadata": {},
   "outputs": [],
   "source": [
    "\n",
    "omega = alpha.drop(['İl', 'Cemi'], axis=1)\n",
    "\n",
    "for column in omega.columns:\n",
    "\n",
    "    omega[f'{column}_faiz'] = round((omega[column] / alpha['Cemi']) * 100, 2)\n",
    "\n",
    "omega"
   ]
  },
  {
   "cell_type": "code",
   "execution_count": null,
   "id": "ce57259a-5091-4773-a171-88429649d189",
   "metadata": {},
   "outputs": [],
   "source": []
  }
 ],
 "metadata": {
  "kernelspec": {
   "display_name": "Python 3 (ipykernel)",
   "language": "python",
   "name": "python3"
  },
  "language_info": {
   "codemirror_mode": {
    "name": "ipython",
    "version": 3
   },
   "file_extension": ".py",
   "mimetype": "text/x-python",
   "name": "python",
   "nbconvert_exporter": "python",
   "pygments_lexer": "ipython3",
   "version": "3.12.4"
  }
 },
 "nbformat": 4,
 "nbformat_minor": 5
}
